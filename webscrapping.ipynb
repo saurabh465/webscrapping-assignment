{
 "cells": [
  {
   "cell_type": "code",
   "execution_count": null,
   "id": "17d93464-bf00-41c8-95c9-791a168a37ab",
   "metadata": {},
   "outputs": [],
   "source": [
    "#question1\n",
    "\n",
    "#what is webscrapping\n",
    "webscrapping is extraction of data from sites . it extract data from html codes which is the language used to create web pages,\n",
    "and then structuring it in a format that can be analyzed and used for various purposes.\n",
    "\n",
    "#Web scraping is used for various reasons, including:-\n",
    "    \n",
    "Data mining:\n",
    "    Web scraping can be used to gather large amounts of data from multiple websites and \n",
    "    then analyze it to identify trends, patterns, and insights. This is useful in various industries, such as finance, \n",
    "    marketing, and healthcare, where data is critical for decision-making.\n",
    "\n",
    "Market research:\n",
    "    Web scraping can help businesses gather data on their competitors, including pricing, product features, and customer reviews. \n",
    "    This information can be used to develop better products and services, as well as to create effective marketing strategies.\n",
    "    and also know about the trend of market.\n",
    "\n",
    "Lead generation:\n",
    "    Web scraping can be used to gather contact information for potential customers,\n",
    "    such as email addresses and phone numbers. This can be useful for sales and marketing teams who are looking to generate leads and increase sales.\n",
    "\n",
    "#Areas where web scraping is used to get data include:-\n",
    "\n",
    "E-commerce:\n",
    "    Web scraping can be used to gather pricing information from e-commerce websites.\n",
    "    This information can be used to monitor competitor prices and adjust prices accordingly. \n",
    "    It can also be used to gather product information, such as descriptions and images, which can be used to create listings on other websites.\n",
    "\n",
    "Social media:\n",
    "    Web scraping can be used to gather data from social media platforms, such as Twitter , instagram and Facebook. \n",
    "    This information can be used to analyze trends, identify influencers, and monitor brand sentiment.\n",
    "\n",
    "Research:\n",
    "    Web scraping can be used in academic research to gather data from various websites.\n",
    "    This can include data on public opinion, government policies, and economic trends. \n",
    "    This data can be used to support research papers and publications."
   ]
  },
  {
   "cell_type": "code",
   "execution_count": null,
   "id": "371d05ca-95ad-4142-b19a-6281ac434493",
   "metadata": {},
   "outputs": [],
   "source": [
    "#Question2\n",
    " Several methods used for web scraping :-\n",
    "    \n",
    "Parsing HTML: It is used to extract data from the HTML code of a web page.\n",
    "The parser can be programmed to look for specific tags, attributes, or classes to extract the desired data.\n",
    "\n",
    "Using APIs: Many websites offer APIs (Application Programming Interfaces) that allow developers to access data in a structured format.\n",
    "APIs are typically easier and more reliable to use than web scraping methods.\n",
    "\n",
    "Web scraping tools:  use for  extracting data from websites.\n",
    "These tools typically require minimal coding knowledge and can be used by non-technical users.\n",
    "\n",
    "Headless browsing:This method involves using a browser that can be controlled programmatically to simulate a user browsing a website.\n",
    "The browser can be used to extract data from the website in a similar way to how a user would interact with the website\n",
    "\n",
    "Machine learning: Machine learning techniques can be used to identify and extract data from web pages.\n",
    "This help us to extract the desired data from sites."
   ]
  },
  {
   "cell_type": "code",
   "execution_count": null,
   "id": "a00022fb-12c1-42e9-90ce-961c350e4490",
   "metadata": {},
   "outputs": [],
   "source": [
    "#Question3\n",
    "Beautiful Soup is a Python library used for web scraping.\n",
    "It parses HTML and XML documents to extract relevant data, even if the files are poorly formatted or contain errors. \n",
    "\n",
    "It is commonly used in data science and machine learning projects for extracting data from websites for analysis and modeling."
   ]
  },
  {
   "cell_type": "code",
   "execution_count": null,
   "id": "f8c3ffe6-d3f4-4f80-a183-d2151adb3593",
   "metadata": {},
   "outputs": [],
   "source": [
    "#Question4\n",
    "Flask is a lightweight Python web framework used for building web applications and APIs.\n",
    "It was likely used in the web scraping project to create a web application that takes user input and returns scraped data in a user-friendly format.\n",
    "Flask also handles user authentication and caching, making it a useful tool for building web scraping applications."
   ]
  },
  {
   "cell_type": "code",
   "execution_count": null,
   "id": "4180f6a0-7289-45fd-ba50-64799d37d498",
   "metadata": {},
   "outputs": [],
   "source": [
    "#Question5\n",
    "On which project details aws service used .\n",
    "\n",
    "I can provide a list of commonly used AWS services for web scraping projects and their uses:\n",
    "\n",
    "Amazon EC2 (Elastic Compute Cloud): EC2 is a virtual machine service that provides scalable computing capacity in the cloud.\n",
    "It can be used to host web scraping scripts and perform heavy computations required for web scraping.\n",
    "\n",
    "Amazon S3 (Simple Storage Service): S3 is a highly scalable object storage service that can be used to store scraped data,\n",
    "such as HTML files, images, and other resources. It provides a reliable and durable storage solution for web scraping projects.\n",
    "\n",
    "Amazon SQS (Simple Queue Service): SQS is a message queuing service that can be used to manage tasks and \n",
    "coordinate multiple scraping scripts. It allows multiple processes to work on different tasks and ensures that tasks are executed in order.\n",
    "\n",
    "Amazon Lambda: Lambda is a serverless computing service that can be used to run small web scraping \n",
    "scripts without the need for provisioning or managing servers. It can be used for ad-hoc or event-driven scraping tasks.\n",
    "\n",
    "Amazon RDS (Relational Database Service): RDS is a managed database service that can be used to store \n",
    "scraped data in a relational database, such as MySQL or PostgreSQL.\n",
    "It provides an easy-to-use database solution that can scale to meet the needs of a web scraping project.\n",
    "\n",
    "Overall, AWS provides a wide range of services that can be used for web scraping projects, \n",
    "including virtual machines, storage, messaging, serverless computing, and databases.\n",
    "The specific services used in a project depend on the requirements and architecture of the project.\n"
   ]
  }
 ],
 "metadata": {
  "kernelspec": {
   "display_name": "Python 3 (ipykernel)",
   "language": "python",
   "name": "python3"
  },
  "language_info": {
   "codemirror_mode": {
    "name": "ipython",
    "version": 3
   },
   "file_extension": ".py",
   "mimetype": "text/x-python",
   "name": "python",
   "nbconvert_exporter": "python",
   "pygments_lexer": "ipython3",
   "version": "3.10.8"
  }
 },
 "nbformat": 4,
 "nbformat_minor": 5
}
